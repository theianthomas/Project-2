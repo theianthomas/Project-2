{
 "cells": [
  {
   "cell_type": "code",
   "execution_count": null,
   "metadata": {},
   "outputs": [],
   "source": [
    "#Load required packages\n",
    "import pandas as pd\n",
    "from sqlalchemy import create_engine"
   ]
  },
  {
   "cell_type": "code",
   "execution_count": null,
   "metadata": {},
   "outputs": [],
   "source": [
    "#Extract csv files and convert to pandas dataframe\n",
    "players_file = '../resources/players.csv'\n",
    "players_df = pd.read_csv(players_file)\n",
    "players_df.head()"
   ]
  },
  {
   "cell_type": "code",
   "execution_count": null,
   "metadata": {},
   "outputs": [],
   "source": [
    "#Rename columns in dataframe and display results\n",
    "players_df.rename(columns = {'playerId':'player_id', 'nameFirst':'first_name', 'nameLast':'last_name', 'nameFull':'full_name',\n",
    "                              'nflId':'nfl_id', 'heightInches': 'height_inches', \n",
    "                             'ageAtDraft': 'draft_age', 'playerProfileURL': 'player_profile',\n",
    "                            'homeCity': 'hometown', 'homeState': 'home_state', 'homeCountry': 'country'}, inplace = True)\n",
    "\n",
    "players_df"
   ]
  },
  {
   "cell_type": "code",
   "execution_count": null,
   "metadata": {},
   "outputs": [],
   "source": [
    "#Remove multiple decimal places from draft age and display results\n",
    "player_values = players_df.round(decimals=0) \n",
    "player_values"
   ]
  },
  {
   "cell_type": "code",
   "execution_count": null,
   "metadata": {},
   "outputs": [],
   "source": [
    "#Drop columns from dataframe and display results\n",
    "players_drop_col = player_values.drop(['first_name', 'last_name', 'collegeId', 'combineId', 'highSchool', 'hsCity', 'hsState', 'hsCountry'], axis=1)\n",
    "players_drop_col"
   ]
  },
  {
   "cell_type": "code",
   "execution_count": null,
   "metadata": {},
   "outputs": [],
   "source": [
    "#Remove null values from columns and rows of dataframe and display results\n",
    "players_drop_nulls = players_drop_col.dropna(how='any')\n",
    "players_drop_nulls"
   ]
  },
  {
   "cell_type": "code",
   "execution_count": null,
   "metadata": {},
   "outputs": [],
   "source": [
    "#Extract csv files and convert to pandas dataframe\n",
    "draft_file = '../resources/draft.csv'\n",
    "draft_df = pd.read_csv(draft_file)\n",
    "draft_df.head()"
   ]
  },
  {
   "cell_type": "code",
   "execution_count": null,
   "metadata": {},
   "outputs": [],
   "source": [
    "#Rename columns in dataframe and display results\n",
    "draft_df.rename(columns = {'playerId':'player_id', 'nameFirst':'first_name', 'nameLast':'last_name', 'nameFull': 'full_name',\n",
    "                              'teamId':'team_id', 'heightInches': 'height_inches', \n",
    "                             'ageAtDraft': 'draft_age', 'playerProfileURL': 'player_profile',\n",
    "                            'homeCity': 'hometown', 'homeState': 'home_state', 'homeCountry': 'country'}, inplace = True)\n",
    "\n",
    "draft_df"
   ]
  },
  {
   "cell_type": "code",
   "execution_count": null,
   "metadata": {},
   "outputs": [],
   "source": [
    "#Remove six decimal places for draft age and display results\n",
    "draft_values = draft_df.round(decimals=0)\n",
    "draft_values"
   ]
  },
  {
   "cell_type": "code",
   "execution_count": null,
   "metadata": {},
   "outputs": [],
   "source": [
    "#Drop columns from dataframe and display results\n",
    "draft_drop_col = draft_values.drop(columns =['first_name', 'last_name', 'collegeId', 'nflId','combineId', 'highSchool', 'hsCity', 'hsState', 'hsCountry'])\n",
    "draft_drop_col"
   ]
  },
  {
   "cell_type": "code",
   "execution_count": null,
   "metadata": {},
   "outputs": [],
   "source": [
    "#drop null values from rows and columns of data frame and display results\n",
    "draft_drop_nulls = draft_drop_col.dropna(how='any')\n",
    "draft_drop_nulls"
   ]
  },
  {
   "cell_type": "code",
   "execution_count": null,
   "metadata": {},
   "outputs": [],
   "source": [
    "#Extract csv and convert to pandas dataframe\n",
    "receiver_file = '../resources/receiver.csv'\n",
    "receiver_df = pd.read_csv(receiver_file)\n",
    "receiver_df.head()"
   ]
  },
  {
   "cell_type": "code",
   "execution_count": null,
   "metadata": {},
   "outputs": [],
   "source": [
    "df.rename(columns = {'playerId':'player_id', 'nameFirst':'first_name', 'nameLast':'last_name', 'nameFull': 'full_name',\n",
    "                              'teamId':'team_id', 'heightInches': 'height_inches', \n",
    "                             'ageAtDraft': 'draft_age', 'playerProfileURL': 'player_profile',\n",
    "                            'homeCity': 'hometown', 'homeState': 'home_state', 'homeCountry': 'country'}, inplace = True)\n",
    "\n",
    "df"
   ]
  },
  {
   "cell_type": "code",
   "execution_count": null,
   "metadata": {},
   "outputs": [],
   "source": [
    "#Create connection to sql database\n",
    "connection_db = \"postgres:postgres@localhost:5432/nfl_data\"\n",
    "engine = create_engine(f'postgresql://{connection_db}')"
   ]
  },
  {
   "cell_type": "code",
   "execution_count": null,
   "metadata": {},
   "outputs": [],
   "source": [
    "#Display table names from postgres database\n",
    "engine.table_names()"
   ]
  },
  {
   "cell_type": "code",
   "execution_count": null,
   "metadata": {},
   "outputs": [],
   "source": [
    "#Make column values lowercase and upload pandas dataframe to sql database\n",
    "draft_drop_nulls.columns = [c.lower() for c in draft_drop_nulls.columns]\n",
    "draft_drop_nulls.to_sql(name='draft', con=engine, if_exists='append', index=False)\n"
   ]
  },
  {
   "cell_type": "code",
   "execution_count": null,
   "metadata": {},
   "outputs": [],
   "source": [
    "#Connect to draft table from sql database and return first five rows that have been loaded\n",
    "pd.read_sql_query('select * from draft', con=engine).head()"
   ]
  },
  {
   "cell_type": "code",
   "execution_count": null,
   "metadata": {},
   "outputs": [],
   "source": [
    "#Make column values lowercase and upload pandas dataframe to sql database\n",
    "players_drop_nulls.columns = [c.lower() for c in players_drop_nulls.columns]\n",
    "players_drop_nulls.to_sql(name='players', con=engine, if_exists='append', index=False)"
   ]
  },
  {
   "cell_type": "code",
   "execution_count": null,
   "metadata": {},
   "outputs": [],
   "source": [
    "#Connect to draft table from sql database and return first five rows that have been loaded\n",
    "pd.read_sql_query('select * from players', con=engine).head()"
   ]
  },
  {
   "cell_type": "markdown",
   "metadata": {},
   "source": [
    "## Rushing csv"
   ]
  },
  {
   "cell_type": "code",
   "execution_count": null,
   "metadata": {},
   "outputs": [],
   "source": [
    "csv_file= \"../resources/rusher.csv\"\n",
    "rusher_df=pd.read_csv(csv_file)\n",
    "rusher_df"
   ]
  },
  {
   "cell_type": "code",
   "execution_count": null,
   "metadata": {},
   "outputs": [],
   "source": [
    "#Dropping columns \n",
    "drop_rusher_df=rusher_df.drop(columns=['rushType', 'rushDirection', 'rushLandmark','rushEnd', 'rushNull','rushPrimary','playId'])"
   ]
  },
  {
   "cell_type": "code",
   "execution_count": null,
   "metadata": {},
   "outputs": [],
   "source": [
    "#Renaming columns \n",
    "new_rusher_df=drop_rusher_df.rename(columns={\"rushId\": 'rush_id', 'teamId': 'team_id','playerId':'player_id', \n",
    "                          'rushPosition': 'rush_position', 'rushYards': 'rush_yards','rushTd':'rush_td'}).head()"
   ]
  },
  {
   "cell_type": "code",
   "execution_count": null,
   "metadata": {},
   "outputs": [],
   "source": [
    "new_rusher_df"
   ]
  },
  {
   "cell_type": "markdown",
   "metadata": {},
   "source": [
    "## Loading the receiver.csv"
   ]
  },
  {
   "cell_type": "code",
   "execution_count": null,
   "metadata": {},
   "outputs": [],
   "source": [
    "rec_csv_file= \"../resources/receiver.csv\"\n",
    "receiver_df=pd.read_csv(rec_csv_file)\n",
    "receiver_df"
   ]
  },
  {
   "cell_type": "code",
   "execution_count": null,
   "metadata": {},
   "outputs": [],
   "source": [
    "#Selecting the columns \n",
    "new_receiver_df = receiver_df[['receiverId','teamId', 'playerId', 'recPosition', 'recYards']].copy()\n",
    "new_receiver_df.head()"
   ]
  },
  {
   "cell_type": "code",
   "execution_count": null,
   "metadata": {},
   "outputs": [],
   "source": [
    "#Renaming columns \n",
    "name_receiver_df=new_receiver_df.rename(columns={'receiverId': 'receiver_id', 'teamId': 'team_id',\n",
    "                                                'playerId': 'player_id', 'recPosition': 'rec_position',\n",
    "                                               'recYards': 'rec_yards'})\n",
    "name_receiver_df"
   ]
  },
  {
   "cell_type": "markdown",
   "metadata": {},
   "source": [
    "##Conecting to the local data base"
   ]
  },
  {
   "cell_type": "code",
   "execution_count": null,
   "metadata": {},
   "outputs": [],
   "source": [
    "rds_connection_string = \"postgres:postgres@localhost:5432/nfl_data\"\n",
    "engine = create_engine(f'postgresql://{rds_connection_string}')"
   ]
  },
  {
   "cell_type": "code",
   "execution_count": null,
   "metadata": {},
   "outputs": [],
   "source": [
    "engine.table_names()"
   ]
  },
  {
   "cell_type": "markdown",
   "metadata": {},
   "source": [
    "## Loading the clean rusher.csv to database"
   ]
  },
  {
   "cell_type": "code",
   "execution_count": null,
   "metadata": {},
   "outputs": [],
   "source": [
    "new_rusher_df.to_sql(name='rusher', con=engine, if_exists='append', index=False)"
   ]
  },
  {
   "cell_type": "code",
   "execution_count": null,
   "metadata": {},
   "outputs": [],
   "source": [
    "pd.read_sql_query('select* from rusher', con=engine).head()"
   ]
  },
  {
   "cell_type": "markdown",
   "metadata": {},
   "source": [
    "Merging the receiver data"
   ]
  },
  {
   "cell_type": "code",
   "execution_count": null,
   "metadata": {},
   "outputs": [],
   "source": [
    "receiver_data=pd.read_sql_query('select players.player_id, receiver.player_id, draft.full_name, receiver.rec_yards, receiver.rec_position from player inner join receiver on player.player_id= receiver.player_id inner join draft on player.player_id= draft.player_id'\n",
    ", con=engine).head()\n",
    "receiver_data"
   ]
  },
  {
   "cell_type": "code",
   "execution_count": null,
   "metadata": {},
   "outputs": [],
   "source": [
    "receiver_data_df=receiver_data.drop(columns=['playerid'])\n",
    "receiver_data_df.head()"
   ]
  },
  {
   "cell_type": "markdown",
   "metadata": {},
   "source": [
    "### Merging the rush data "
   ]
  },
  {
   "cell_type": "code",
   "execution_count": null,
   "metadata": {},
   "outputs": [],
   "source": [
    "rush_data=pd.read_sql_query('select player.player_id, rusher.player_id, draft.full_name, rusher.rush_yards, rusher.rush_position from player inner join rusher on player.player_id= rusher.player_id inner join draft on player.player_id= draft.player_id'\n",
    ", con=engine)\n",
    "rush_data.head()"
   ]
  },
  {
   "cell_type": "code",
   "execution_count": null,
   "metadata": {},
   "outputs": [],
   "source": []
  },
  {
   "cell_type": "code",
   "execution_count": null,
   "metadata": {},
   "outputs": [],
   "source": []
  },
  {
   "cell_type": "markdown",
   "metadata": {},
   "source": [
    "## Load NFL Combine Data"
   ]
  },
  {
   "cell_type": "code",
   "execution_count": null,
   "metadata": {},
   "outputs": [],
   "source": [
    "combine_csv= \"../resources/combine.csv\"\n",
    "combine_df=pd.read_csv(combine_csv)\n",
    "combine_df"
   ]
  },
  {
   "cell_type": "code",
   "execution_count": null,
   "metadata": {},
   "outputs": [],
   "source": [
    "#Selecting the columns \n",
    "filter_combine_df = combine_df[['playerId', 'combineHand', 'combineBench', 'combine40yd']].copy()\n",
    "filter_combine_df.head()"
   ]
  },
  {
   "cell_type": "code",
   "execution_count": null,
   "metadata": {},
   "outputs": [],
   "source": [
    "#Rename the columns\n",
    "clean_combine_df=filter_combine_df.rename(columns={'playerId': 'player_id', 'combineHand': 'hand_size',\n",
    "                                               'combineBench': 'bench_press_rep', 'combine40yd': 'forty_yd_time'})\n",
    "clean_combine_df"
   ]
  },
  {
   "cell_type": "markdown",
   "metadata": {},
   "source": [
    "## Load NFL Passer Data"
   ]
  },
  {
   "cell_type": "code",
   "execution_count": null,
   "metadata": {},
   "outputs": [],
   "source": [
    "passer_csv= \"../resources/passer.csv\"\n",
    "passer_df=pd.read_csv(passer_csv)\n",
    "passer_df"
   ]
  },
  {
   "cell_type": "code",
   "execution_count": null,
   "metadata": {},
   "outputs": [],
   "source": [
    "#Selecting the columns \n",
    "filter_passer_df = passer_df[['playerId', 'passId', 'teamId', 'passPosition', 'passOutcomes', 'passLength', 'passAtt', 'passComp', 'passTd', 'passInt']].copy()\n",
    "filter_passer_df.head()"
   ]
  },
  {
   "cell_type": "code",
   "execution_count": null,
   "metadata": {},
   "outputs": [],
   "source": [
    "#Rename the columns\n",
    "clean_passer_df=filter_passer_df.rename(columns={'playerId': 'player_id','teamId': 'team_id','passId': 'pass_id','passPosition': 'pass_position','passOutcomes': 'pass_outcomes','passLength':'pass_length','passAtt':'pass_attempt','passComp':'pass_completion','passTd':'pass_touchdown','passInt':'pass_interception'})\n",
    "clean_passer_df"
   ]
  },
  {
   "cell_type": "markdown",
   "metadata": {},
   "source": [
    "## Merge Players with Combine and Passer Data"
   ]
  },
  {
   "cell_type": "code",
   "execution_count": null,
   "metadata": {},
   "outputs": [],
   "source": [
    "new_combine_df.to_sql(name='combine', con=engine, if_exists='append', index=False)"
   ]
  },
  {
   "cell_type": "code",
   "execution_count": null,
   "metadata": {},
   "outputs": [],
   "source": [
    "pd.read_sql_query('select* from combine', con=engine).head()"
   ]
  },
  {
   "cell_type": "code",
   "execution_count": null,
   "metadata": {},
   "outputs": [],
   "source": [
    "combine_data=pd.read_sql_query('select players.player_id, combine.player_id, draft.full_name, combine.hand_size, combine.hand_size, combine.forty_yd_time from players inner join combine on players.player_id= combine.player_id inner join draft on players.player_id= draft.player_id'\n",
    ", con=engine).head()\n",
    "combine_data"
   ]
  },
  {
   "cell_type": "code",
   "execution_count": null,
   "metadata": {},
   "outputs": [],
   "source": [
    "passer_data=pd.read_sql_query('select players.player_id, passer.player_id, draft.full_name, passer.pass_outcomes, passer.pass_attempt, passer.pass_completion, passer.pass_touchdown from players inner join passer on players.player_id= passer.player_id inner join draft on players.player_id= draft.player_id'\n",
    ", con=engine).head()\n",
    "passer_data"
   ]
  }
 ],
 "metadata": {
  "kernelspec": {
   "display_name": "Python 3",
   "language": "python",
   "name": "python3"
  },
  "language_info": {
   "codemirror_mode": {
    "name": "ipython",
    "version": 3
   },
   "file_extension": ".py",
   "mimetype": "text/x-python",
   "name": "python",
   "nbconvert_exporter": "python",
   "pygments_lexer": "ipython3",
   "version": "3.7.4"
  }
 },
 "nbformat": 4,
 "nbformat_minor": 2
}
